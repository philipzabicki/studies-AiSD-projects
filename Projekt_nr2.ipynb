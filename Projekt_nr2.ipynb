{
  "nbformat": 4,
  "nbformat_minor": 0,
  "metadata": {
    "colab": {
      "provenance": []
    },
    "kernelspec": {
      "name": "python3",
      "display_name": "Python 3"
    },
    "language_info": {
      "name": "python"
    }
  },
  "cells": [
    {
      "cell_type": "code",
      "source": [
        "import requests\n",
        "import random\n",
        "import math"
      ],
      "metadata": {
        "id": "o85QwqZ_nLEj"
      },
      "execution_count": null,
      "outputs": []
    },
    {
      "cell_type": "markdown",
      "source": [
        "#Operator porównania klasy string w Python.\n",
        "\n"
      ],
      "metadata": {
        "id": "NIOYeUEfjGD_"
      }
    },
    {
      "cell_type": "code",
      "source": [
        "# W pythonie dwa stringi są porównywane symbol po symbolu od lewej do prawej, przy czym każdy jest zamieniany na odpowiadającą liczbę całkowitą w systemie Unicode\n",
        "# Małe litery j. łacińskiego mają mniejsze odpowiadające im l. cąłkowite niż wielkie.\n",
        "print('a' > 'A')"
      ],
      "metadata": {
        "colab": {
          "base_uri": "https://localhost:8080/"
        },
        "id": "i4i1EuwKjPF6",
        "outputId": "f69c8e61-d817-4e2a-a5fb-3af2975e8a9e"
      },
      "execution_count": null,
      "outputs": [
        {
          "output_type": "stream",
          "name": "stdout",
          "text": [
            "True\n"
          ]
        }
      ]
    },
    {
      "cell_type": "code",
      "source": [
        "print('aB'>'aC')"
      ],
      "metadata": {
        "colab": {
          "base_uri": "https://localhost:8080/"
        },
        "id": "YqREMU08ke2e",
        "outputId": "119a3868-65d3-414f-a147-38d200aabe73"
      },
      "execution_count": null,
      "outputs": [
        {
          "output_type": "stream",
          "name": "stdout",
          "text": [
            "False\n"
          ]
        }
      ]
    },
    {
      "cell_type": "markdown",
      "source": [
        "# Modyfikacje klasy węzła"
      ],
      "metadata": {
        "id": "KmMioqY7lXkS"
      }
    },
    {
      "cell_type": "code",
      "source": [
        "class Node(object):\n",
        "  # W konstruktorze klasy węzeł zmieniam nazwę pola number na key, funkcjonalność pozostanie taka sama.\n",
        "  #   Dodatkowo każdy węzeł będzie miał pole przechowujące wartość - value\n",
        "  #   Dodałem wskazówki dotyczące typów w liście argumentów konstruktora, niestety Python nie obsługuje typowania statycznego,\n",
        "  #   więc zostałem zmuszony do zaimplementowania obsługi błędów.\n",
        "  def __init__(self, key: str=None, value: str=None, parent: Node=None) -> None:\n",
        "    if not (isinstance(key, str) and isinstance(value, str)):\n",
        "      raise TypeError('Drzewo BST skrótowców wymaga typu string dla kluczy oraz wartości')\n",
        "    # klucze mają być skrótami także będą zapisywane z wielkiej litery, ma to znaczenie w przypadku porównań\n",
        "    self.key = key.upper()\n",
        "    # Problem identycznych kluczy postanowiłem rozwiązać tak że każda wartość będzie od razu listą (by uniknąć niespójności)\n",
        "    self.value = [value]\n",
        "    self.parent = parent\n",
        "    self.left = None\n",
        "    self.right = None"
      ],
      "metadata": {
        "id": "tY1OAZTRl-2L"
      },
      "execution_count": null,
      "outputs": []
    },
    {
      "cell_type": "markdown",
      "source": [
        "# Modyfikacje klasy drzewa"
      ],
      "metadata": {
        "id": "ebROaYIgZvgx"
      }
    },
    {
      "cell_type": "code",
      "execution_count": null,
      "metadata": {
        "id": "N3ZkQ-v0kR2E"
      },
      "outputs": [],
      "source": [
        "# Kod z zajęć zmodyfikowany do obsługi drzewa skrótów\n",
        "class Tree(object):\n",
        "    def __init__(self, dictionary=None):\n",
        "        self.dummy = Node('', '')\n",
        "        # Dla wygody dodałem możliwość automatycznego wypełnienia drzewa za pomocą argumentu konstruktora\n",
        "        if isinstance(dictionary, dict) and dictionary!={}:\n",
        "          for k,v in dictionary.items():\n",
        "            self.Add(k, v)\n",
        "    \n",
        "    # Przeciążyłem kilka magicznych metod dla łatwości korzystania z obiektów tej klasy \n",
        "    def __repr__(self):\n",
        "      h = self.Height()\n",
        "      return f'Drzewo (BST) skrótów, wysokości {h}'\n",
        "    def __str__(self):\n",
        "      self.Draw()\n",
        "      return ''\n",
        "    def __len__(self):\n",
        "      return self.Height()\n",
        "\n",
        "    def Add(self, key, value, nd=None):\n",
        "        if (nd==None):\n",
        "            nd = self.dummy.right\n",
        "        if (nd==None):\n",
        "            self.dummy.right = Node(key, value, self.dummy)\n",
        "            return\n",
        "        if key==nd.key:\n",
        "            # Jeśli klucz już istnieje, wartość dodawana jest do listy\n",
        "            nd.value.append(value)\n",
        "        if nd.key>key:\n",
        "            if(nd.left==None):\n",
        "                nd.left = Node(key, value, nd)\n",
        "                return\n",
        "            else:\n",
        "                self.Add(key, value, nd.left)\n",
        "                return\n",
        "        else:\n",
        "            if(nd.right==None):\n",
        "                nd.right=Node(key, value, nd)\n",
        "                return\n",
        "            else:\n",
        "                self.Add(key, value, nd.right)\n",
        "    def Delete(self, _nd):\n",
        "      if _nd==None:\n",
        "        return\n",
        "      elif _nd.left==None and _nd.right==None:\n",
        "        if _nd==_nd.parent.right: _nd.parent.right=None\n",
        "        elif _nd==_nd.parent.left:  _nd.parent.left=None\n",
        "        _nd = None\n",
        "      elif _nd.left==None:\n",
        "        if _nd==_nd.parent.right: _nd.parent.right=_nd.right\n",
        "        elif _nd==_nd.parent.left:  _nd.parent.left=_nd.right\n",
        "        _nd = None\n",
        "      elif _nd.right==None:\n",
        "        if _nd==_nd.parent.right: _nd.parent.right=_nd.left\n",
        "        elif _nd==_nd.parent.left:  _nd.parent.left=_nd.left\n",
        "        _nd = None\n",
        "      else:\n",
        "        nast = self.Consequent(_nd)\n",
        "        _nd.key, nast.key = nast.key, _nd.key\n",
        "        self.Delete(nast)\n",
        "\n",
        "    def Consequent(self, _nd):\n",
        "      if _nd.right!=None:\n",
        "        return self.Minimum(_nd.right)\n",
        "      while _nd.parent!=None and not _nd.parent.left==_nd:\n",
        "        _nd = _nd.parent\n",
        "      return _nd.parent\n",
        "\n",
        "    def Minimum(self, _nd='nic'):\n",
        "      if _nd=='nic':\n",
        "        _nd = self.dummy.right\n",
        "      while _nd.left!=None:\n",
        "        _nd = _nd.left\n",
        "      return _nd\n",
        "\n",
        "    def Find(self, key_to_search, _nd='nic'):\n",
        "      if (_nd=='nic'):\n",
        "        _nd = self.dummy.right\n",
        "      if (_nd==None):\n",
        "        return None\n",
        "      if (_nd.key == key_to_search):\n",
        "        return _nd\n",
        "      if (_nd.key > key_to_search):\n",
        "        return self.Find(key_to_search, _nd.left)\n",
        "      return self.Find(key_to_search, _nd.right)\n",
        "\n",
        "    def PrintIO(self, _nd='nic'):\n",
        "      if _nd=='nic':\n",
        "        _nd = self.dummy.right\n",
        "      if _nd==None:\n",
        "        return\n",
        "      self.PrintIO(_nd.left)\n",
        "      print(f'{_nd.key}:{_nd.value}', end=\", \")\n",
        "      self.PrintIO(_nd.right)\n",
        "\n",
        "    def Sum(self, _nd='nic'):\n",
        "      if _nd=='nic':\n",
        "        _nd = self.dummy.right\n",
        "      if _nd==None:\n",
        "        return 0\n",
        "      suma = self.Sum(_nd.left) + _nd.key + self.sum(_nd.right)\n",
        "      return suma\n",
        "      \n",
        "    def Height(self, _nd='nic'):\n",
        "      if _nd=='nic':\n",
        "        _nd = self.dummy.right\n",
        "      if _nd==None:\n",
        "        return 0\n",
        "      L = self.Height(_nd.left)\n",
        "      R = self.Height(_nd.right)\n",
        "      return max(L, R)+1\n",
        "\n",
        "    def Rotate(self, B):\n",
        "      if (B is None or B==self.dummy or B==self.dummy.right):\n",
        "        return\n",
        "      A = B.parent\n",
        "      P = A.parent\n",
        "      if (A.left==B):\n",
        "        beta = B.right\n",
        "        B.parent = P\n",
        "        if P.right==A:\n",
        "          P.right=B\n",
        "        else:\n",
        "          P.left=B\n",
        "        B.right = A\n",
        "        A.parent = B\n",
        "        A.left = beta\n",
        "        if beta != None:\n",
        "          beta.parent = A\n",
        "      else: # rotacja w lewo\n",
        "        beta = B.left\n",
        "        B.parent = P\n",
        "        if P.left==A:\n",
        "          P.left=B\n",
        "        else:\n",
        "          P.right=B\n",
        "        B.left = A\n",
        "        A.parent = B\n",
        "        A.right = beta\n",
        "        if beta != None:\n",
        "          beta.parent = A\n",
        "\n",
        "    def DSW(self):\n",
        "      cnt = 0\n",
        "      walker = self.dummy.right\n",
        "      while walker!=None:\n",
        "        if walker.left!=None:\n",
        "          walker = walker.left\n",
        "          self.Rotate(walker)\n",
        "        else:\n",
        "          #print(walker.number)\n",
        "          #time.sleep(1)\n",
        "          walker = walker.right\n",
        "          cnt+=1\n",
        "      m = 2**(int(math.log2(cnt+1)))-1\n",
        "\n",
        "      walker = self.dummy.right\n",
        "      for _ in range(cnt-m):\n",
        "        walker = walker.right\n",
        "        self.Rotate(walker)\n",
        "        walker=walker.right\n",
        "      m//=2\n",
        "      \n",
        "      while(m>0):\n",
        "        walker=self.dummy.right\n",
        "        for _ in range(m):\n",
        "          walker = walker.right\n",
        "          self.Rotate(walker)\n",
        "          walker = walker.right\n",
        "        m//=2\n",
        "\n",
        "    def Draw(self, _nd='nic', depth=0):\n",
        "      if _nd=='nic':\n",
        "        _nd = self.dummy.right\n",
        "      if _nd==None:\n",
        "        return\n",
        "      self.Draw(_nd.right, depth+1)\n",
        "      for i in range(depth):\n",
        "        print('   ', end='')\n",
        "      print(_nd.key)\n",
        "      self.Draw(_nd.left, depth+1)\n",
        "\n",
        "    def DrawValues(self, _nd='nic', depth=0):\n",
        "      if _nd=='nic':\n",
        "        _nd = self.dummy.right\n",
        "      if _nd==None:\n",
        "        return\n",
        "      self.DrawValues(_nd.right, depth+1)\n",
        "      for i in range(depth):\n",
        "        print('    ', end='')\n",
        "      print(_nd.value)\n",
        "      self.DrawValues(_nd.left, depth+1)\n",
        "    ##############################\n",
        "    def CountLeaves(self, _nd='nic'):\n",
        "      if _nd=='nic':\n",
        "        _nd = self.dummy.right\n",
        "      if _nd==None:\n",
        "        return 0\n",
        "      if _nd.left==None and _nd.right==None:\n",
        "        return 1\n",
        "      cnt = self.CountLeaves(_nd.left) + self.CountLeaves(_nd.right)\n",
        "      return cnt"
      ]
    },
    {
      "cell_type": "markdown",
      "source": [
        "# Generowanie nazw oraz skrótów"
      ],
      "metadata": {
        "id": "6ixa0Flm5Gmu"
      }
    },
    {
      "cell_type": "code",
      "source": [
        "word_site = \"https://www.mit.edu/~ecprice/wordlist.10000\"\n",
        "response = requests.get(word_site)\n",
        "words = response.text.splitlines()"
      ],
      "metadata": {
        "id": "UVOAIESdx2uj"
      },
      "execution_count": null,
      "outputs": []
    },
    {
      "cell_type": "code",
      "source": [
        "# Poniższy kod losuje nazwy o losowej długości z wyrazów wybieranych losowo, które trafiają do słownika. Z nazw tworzne są skróty, które stają się kluczami słownika.\n",
        "def generuj_nazwy(ile_nazw=10, max_wyrazow=5):\n",
        "  skrot_nazwa = {}\n",
        "  for _ in range(ile_nazw):\n",
        "    nazwa = ''\n",
        "    skrot = ''\n",
        "    for _ in range(random.randint(2,max_wyrazow)):\n",
        "      w = random.choice(words).capitalize()\n",
        "      nazwa += w+' '\n",
        "      skrot += w[0].upper()\n",
        "    skrot_nazwa[skrot] = nazwa[:-1]\n",
        "  return skrot_nazwa"
      ],
      "metadata": {
        "id": "Ve9FzT3Qzg9_"
      },
      "execution_count": null,
      "outputs": []
    },
    {
      "cell_type": "code",
      "source": [
        "nazwy = generuj_nazwy(11, 6)\n",
        "nazwy"
      ],
      "metadata": {
        "colab": {
          "base_uri": "https://localhost:8080/"
        },
        "id": "WgwTob2Q4_JQ",
        "outputId": "5b3edbc8-dedd-4a09-9b87-517e64437e43"
      },
      "execution_count": null,
      "outputs": [
        {
          "output_type": "execute_result",
          "data": {
            "text/plain": [
              "{'BTIPS': 'Booking Tide Implement Position Sk',\n",
              " 'EETVBK': 'Emission Exec Traditions Vol Bottom Korean',\n",
              " 'MN': 'Mission Normal',\n",
              " 'ALDRC': 'Avoid Liked Do Remedies Cyprus',\n",
              " 'VARSFH': 'Virus Accounts Romantic Sparc Fx Harbor',\n",
              " 'FDVO': 'Feeds Does Vernon Own',\n",
              " 'EMCTD': 'Expires Miniature Collectibles Thailand Doctrine',\n",
              " 'SIPT': 'Save Immune Passion Test',\n",
              " 'HDICAE': 'Highlight Directors Ima Crap Affiliation Experiment',\n",
              " 'CGFP': 'Congressional Gradually Fighting Plaintiff',\n",
              " 'CDARQE': 'Collecting Danger Adoption Ruled Qui Except'}"
            ]
          },
          "metadata": {},
          "execution_count": 371
        }
      ]
    },
    {
      "cell_type": "markdown",
      "source": [
        "# Testowanie drzewa"
      ],
      "metadata": {
        "id": "hzc0P0HigPg5"
      }
    },
    {
      "cell_type": "code",
      "source": [
        "drzewo = Tree(nazwy)"
      ],
      "metadata": {
        "id": "RDWnExrzRXUl"
      },
      "execution_count": null,
      "outputs": []
    },
    {
      "cell_type": "code",
      "source": [
        "len(drzewo)"
      ],
      "metadata": {
        "colab": {
          "base_uri": "https://localhost:8080/"
        },
        "id": "XIRQ9yIrkJxe",
        "outputId": "f12d03e8-4ae7-487c-a2a3-326cdebcf58e"
      },
      "execution_count": null,
      "outputs": [
        {
          "output_type": "execute_result",
          "data": {
            "text/plain": [
              "5"
            ]
          },
          "metadata": {},
          "execution_count": 378
        }
      ]
    },
    {
      "cell_type": "code",
      "source": [
        "print(drzewo)"
      ],
      "metadata": {
        "colab": {
          "base_uri": "https://localhost:8080/"
        },
        "id": "qx0pHW_vjqAK",
        "outputId": "53d4af8b-07ad-4a55-f03a-912d28e1d6f0"
      },
      "execution_count": null,
      "outputs": [
        {
          "output_type": "stream",
          "name": "stdout",
          "text": [
            "         VARSFH\n",
            "            SIPT\n",
            "      MN\n",
            "            HDICAE\n",
            "         FDVO\n",
            "            EMCTD\n",
            "   EETVBK\n",
            "      CGFP\n",
            "         CDARQE\n",
            "BTIPS\n",
            "   ALDRC\n",
            "\n"
          ]
        }
      ]
    },
    {
      "cell_type": "code",
      "source": [
        "drzewo.PrintIO()"
      ],
      "metadata": {
        "colab": {
          "base_uri": "https://localhost:8080/"
        },
        "id": "lnEjYoOoXBeM",
        "outputId": "1bca4f82-f1bd-4f80-b3e8-9ccd77f27926"
      },
      "execution_count": null,
      "outputs": [
        {
          "output_type": "stream",
          "name": "stdout",
          "text": [
            "ALDRC:['Avoid Liked Do Remedies Cyprus'], BTIPS:['Booking Tide Implement Position Sk'], CDARQE:['Collecting Danger Adoption Ruled Qui Except'], CGFP:['Congressional Gradually Fighting Plaintiff'], EETVBK:['Emission Exec Traditions Vol Bottom Korean'], EMCTD:['Expires Miniature Collectibles Thailand Doctrine'], FDVO:['Feeds Does Vernon Own'], HDICAE:['Highlight Directors Ima Crap Affiliation Experiment'], MN:['Mission Normal'], SIPT:['Save Immune Passion Test'], VARSFH:['Virus Accounts Romantic Sparc Fx Harbor'], "
          ]
        }
      ]
    },
    {
      "cell_type": "code",
      "source": [
        "drzewo.Add('CDARQF','Cc Dd Aa Rr Qq Ff')"
      ],
      "metadata": {
        "id": "WHlYwQOngrxV"
      },
      "execution_count": null,
      "outputs": []
    },
    {
      "cell_type": "code",
      "source": [
        "print(drzewo)"
      ],
      "metadata": {
        "colab": {
          "base_uri": "https://localhost:8080/"
        },
        "id": "wdMyljUyg_0T",
        "outputId": "5e515558-07b7-4225-9995-4f5ad3853256"
      },
      "execution_count": null,
      "outputs": [
        {
          "output_type": "stream",
          "name": "stdout",
          "text": [
            "         VARSFH\n",
            "            SIPT\n",
            "      MN\n",
            "            HDICAE\n",
            "         FDVO\n",
            "            EMCTD\n",
            "   EETVBK\n",
            "      CGFP\n",
            "            CFU\n",
            "               CDARQF\n",
            "         CDARQE\n",
            "BTIPS\n",
            "   ALDRC\n",
            "\n"
          ]
        }
      ]
    },
    {
      "cell_type": "markdown",
      "source": [
        "Jak widać dodawanie działa prawidłowo element 'CDARQF' stał się prawą gałęzią 'CDARQE', gdyż 'F'>'E'"
      ],
      "metadata": {
        "id": "QnThuvbZhB4_"
      }
    },
    {
      "cell_type": "code",
      "source": [
        "element_do_usuniecia = drzewo.Find('FDVO')"
      ],
      "metadata": {
        "id": "KCi9U2Fjhx5S"
      },
      "execution_count": null,
      "outputs": []
    },
    {
      "cell_type": "code",
      "source": [
        "drzewo.Delete(element_do_usuniecia)"
      ],
      "metadata": {
        "id": "ZRqHxfArdKp1"
      },
      "execution_count": null,
      "outputs": []
    },
    {
      "cell_type": "code",
      "source": [
        "print(drzewo)"
      ],
      "metadata": {
        "colab": {
          "base_uri": "https://localhost:8080/"
        },
        "id": "Q-rOP12BoVOe",
        "outputId": "f43f6669-c6cb-4e2d-fa00-398f7e7323be"
      },
      "execution_count": null,
      "outputs": [
        {
          "output_type": "stream",
          "name": "stdout",
          "text": [
            "         VARSFH\n",
            "            SIPT\n",
            "      MN\n",
            "         HDICAE\n",
            "            EMCTD\n",
            "   EETVBK\n",
            "      CGFP\n",
            "            CFU\n",
            "               CDARQF\n",
            "         CDARQE\n",
            "BTIPS\n",
            "   ALDRC\n",
            "\n"
          ]
        }
      ]
    },
    {
      "cell_type": "markdown",
      "source": [
        "Element został usnięty prawidłowo."
      ],
      "metadata": {
        "id": "t4Gag1VWoczg"
      }
    },
    {
      "cell_type": "markdown",
      "source": [
        "Przetestuje teraz metodę DSW do równoważenia drzewa."
      ],
      "metadata": {
        "id": "6GfB6I9bolih"
      }
    },
    {
      "cell_type": "code",
      "source": [
        "drzewo = Tree(generuj_nazwy(1_000, 6))\n",
        "drzewo"
      ],
      "metadata": {
        "colab": {
          "base_uri": "https://localhost:8080/"
        },
        "id": "GeQSFW7tpHAW",
        "outputId": "7ac84096-e9a8-4b0b-a34a-f51bd8238ef2"
      },
      "execution_count": null,
      "outputs": [
        {
          "output_type": "execute_result",
          "data": {
            "text/plain": [
              "Drzewo (BST) skrótów, wysokości 23"
            ]
          },
          "metadata": {},
          "execution_count": 390
        }
      ]
    },
    {
      "cell_type": "code",
      "source": [
        "drzewo.DSW()\n",
        "drzewo"
      ],
      "metadata": {
        "colab": {
          "base_uri": "https://localhost:8080/"
        },
        "id": "4qBkAvzfpSmp",
        "outputId": "7e400e99-c82c-42ad-997d-af732ca424d0"
      },
      "execution_count": null,
      "outputs": [
        {
          "output_type": "execute_result",
          "data": {
            "text/plain": [
              "Drzewo (BST) skrótów, wysokości 10"
            ]
          },
          "metadata": {},
          "execution_count": 391
        }
      ]
    },
    {
      "cell_type": "code",
      "source": [
        "math.log(1_000, 2)"
      ],
      "metadata": {
        "colab": {
          "base_uri": "https://localhost:8080/"
        },
        "id": "rf7mOnUfrEW8",
        "outputId": "6a4beada-83ed-4319-e8b6-4ae8f91aa847"
      },
      "execution_count": null,
      "outputs": [
        {
          "output_type": "execute_result",
          "data": {
            "text/plain": [
              "9.965784284662087"
            ]
          },
          "metadata": {},
          "execution_count": 394
        }
      ]
    },
    {
      "cell_type": "markdown",
      "source": [
        "Jak widać wysokość drzewa uległa dużej poprawie, jest bliska log2(n)."
      ],
      "metadata": {
        "id": "fHSxtOKXpZy-"
      }
    },
    {
      "cell_type": "code",
      "source": [
        "!jupyter nbconvert --to html /content/Projekt_nr2.ipynb"
      ],
      "metadata": {
        "colab": {
          "base_uri": "https://localhost:8080/"
        },
        "id": "8nzRZjfjtDrO",
        "outputId": "3f327d3b-ab0e-406c-d1ba-50f5bb12e2cb"
      },
      "execution_count": null,
      "outputs": [
        {
          "output_type": "stream",
          "name": "stdout",
          "text": [
            "[NbConvertApp] Converting notebook /content/Projekt_nr2.ipynb to html\n",
            "[NbConvertApp] Writing 639034 bytes to /content/Projekt_nr2.html\n"
          ]
        }
      ]
    }
  ]
}